{
 "cells": [
  {
   "cell_type": "code",
   "execution_count": 1,
   "id": "8ac838c1",
   "metadata": {},
   "outputs": [
    {
     "name": "stdout",
     "output_type": "stream",
     "text": [
      "Collecting scipyNote: you may need to restart the kernel to use updated packages.\n",
      "\n",
      "  Downloading scipy-1.13.1-cp39-cp39-win_amd64.whl (46.2 MB)\n",
      "     -------------------------------------- 46.2/46.2 MB 195.0 kB/s eta 0:00:00\n",
      "Collecting pyedflib\n",
      "  Downloading pyEDFlib-0.1.38-cp39-cp39-win_amd64.whl (2.2 MB)\n",
      "     ---------------------------------------- 2.2/2.2 MB 195.7 kB/s eta 0:00:00\n",
      "Requirement already satisfied: numpy<2.3,>=1.22.4 in d:\\anaconda\\envs\\ipytorch\\lib\\site-packages (from scipy) (1.24.1)\n",
      "Installing collected packages: scipy, pyedflib\n",
      "Successfully installed pyedflib-0.1.38 scipy-1.13.1\n"
     ]
    }
   ],
   "source": [
    "pip install scipy pyedflib"
   ]
  },
  {
   "cell_type": "code",
   "execution_count": 20,
   "id": "a3f68cbb",
   "metadata": {},
   "outputs": [
    {
     "ename": "OSError",
     "evalue": "could not read bytes",
     "output_type": "error",
     "traceback": [
      "\u001b[1;31m---------------------------------------------------------------------------\u001b[0m",
      "\u001b[1;31mOSError\u001b[0m                                   Traceback (most recent call last)",
      "Cell \u001b[1;32mIn[20], line 55\u001b[0m\n\u001b[0;32m     52\u001b[0m mat_file \u001b[38;5;241m=\u001b[39m \u001b[38;5;124m'\u001b[39m\u001b[38;5;124msplit2250_bipolarRerefType1_lineNoiseRemoved_postPuffpreStim.mat\u001b[39m\u001b[38;5;124m'\u001b[39m  \u001b[38;5;66;03m# Replace with your .mat file path\u001b[39;00m\n\u001b[0;32m     53\u001b[0m edf_file \u001b[38;5;241m=\u001b[39m \u001b[38;5;124m'\u001b[39m\u001b[38;5;124moutput.edf\u001b[39m\u001b[38;5;124m'\u001b[39m  \u001b[38;5;66;03m# Replace with your desired .edf file path\u001b[39;00m\n\u001b[1;32m---> 55\u001b[0m \u001b[43mmat_to_edf\u001b[49m\u001b[43m(\u001b[49m\u001b[43mmat_file\u001b[49m\u001b[43m,\u001b[49m\u001b[43m \u001b[49m\u001b[43medf_file\u001b[49m\u001b[43m)\u001b[49m\n",
      "Cell \u001b[1;32mIn[20], line 7\u001b[0m, in \u001b[0;36mmat_to_edf\u001b[1;34m(mat_file, edf_file)\u001b[0m\n\u001b[0;32m      5\u001b[0m \u001b[38;5;28;01mdef\u001b[39;00m \u001b[38;5;21mmat_to_edf\u001b[39m(mat_file, edf_file):\n\u001b[0;32m      6\u001b[0m     \u001b[38;5;66;03m# Load .mat file\u001b[39;00m\n\u001b[1;32m----> 7\u001b[0m     data \u001b[38;5;241m=\u001b[39m \u001b[43mloadmat\u001b[49m\u001b[43m(\u001b[49m\u001b[43mmat_file\u001b[49m\u001b[43m)\u001b[49m\n\u001b[0;32m      9\u001b[0m     \u001b[38;5;66;03m# Extract signal data and sampling rate\u001b[39;00m\n\u001b[0;32m     10\u001b[0m     \u001b[38;5;66;03m# Adjust keys based on your .mat file structure\u001b[39;00m\n\u001b[0;32m     11\u001b[0m     \u001b[38;5;28;01mif\u001b[39;00m \u001b[38;5;124m'\u001b[39m\u001b[38;5;124mdata\u001b[39m\u001b[38;5;124m'\u001b[39m \u001b[38;5;129;01mnot\u001b[39;00m \u001b[38;5;129;01min\u001b[39;00m data \u001b[38;5;129;01mor\u001b[39;00m \u001b[38;5;124m'\u001b[39m\u001b[38;5;124mfs\u001b[39m\u001b[38;5;124m'\u001b[39m \u001b[38;5;129;01mnot\u001b[39;00m \u001b[38;5;129;01min\u001b[39;00m data:\n",
      "File \u001b[1;32mD:\\Anaconda\\envs\\ipytorch\\lib\\site-packages\\scipy\\io\\matlab\\_mio.py:227\u001b[0m, in \u001b[0;36mloadmat\u001b[1;34m(file_name, mdict, appendmat, **kwargs)\u001b[0m\n\u001b[0;32m    225\u001b[0m \u001b[38;5;28;01mwith\u001b[39;00m _open_file_context(file_name, appendmat) \u001b[38;5;28;01mas\u001b[39;00m f:\n\u001b[0;32m    226\u001b[0m     MR, _ \u001b[38;5;241m=\u001b[39m mat_reader_factory(f, \u001b[38;5;241m*\u001b[39m\u001b[38;5;241m*\u001b[39mkwargs)\n\u001b[1;32m--> 227\u001b[0m     matfile_dict \u001b[38;5;241m=\u001b[39m \u001b[43mMR\u001b[49m\u001b[38;5;241;43m.\u001b[39;49m\u001b[43mget_variables\u001b[49m\u001b[43m(\u001b[49m\u001b[43mvariable_names\u001b[49m\u001b[43m)\u001b[49m\n\u001b[0;32m    229\u001b[0m \u001b[38;5;28;01mif\u001b[39;00m mdict \u001b[38;5;129;01mis\u001b[39;00m \u001b[38;5;129;01mnot\u001b[39;00m \u001b[38;5;28;01mNone\u001b[39;00m:\n\u001b[0;32m    230\u001b[0m     mdict\u001b[38;5;241m.\u001b[39mupdate(matfile_dict)\n",
      "File \u001b[1;32mD:\\Anaconda\\envs\\ipytorch\\lib\\site-packages\\scipy\\io\\matlab\\_mio5.py:330\u001b[0m, in \u001b[0;36mMatFile5Reader.get_variables\u001b[1;34m(self, variable_names)\u001b[0m\n\u001b[0;32m    328\u001b[0m     \u001b[38;5;28;01mcontinue\u001b[39;00m\n\u001b[0;32m    329\u001b[0m \u001b[38;5;28;01mtry\u001b[39;00m:\n\u001b[1;32m--> 330\u001b[0m     res \u001b[38;5;241m=\u001b[39m \u001b[38;5;28;43mself\u001b[39;49m\u001b[38;5;241;43m.\u001b[39;49m\u001b[43mread_var_array\u001b[49m\u001b[43m(\u001b[49m\u001b[43mhdr\u001b[49m\u001b[43m,\u001b[49m\u001b[43m \u001b[49m\u001b[43mprocess\u001b[49m\u001b[43m)\u001b[49m\n\u001b[0;32m    331\u001b[0m \u001b[38;5;28;01mexcept\u001b[39;00m MatReadError \u001b[38;5;28;01mas\u001b[39;00m err:\n\u001b[0;32m    332\u001b[0m     warnings\u001b[38;5;241m.\u001b[39mwarn(\n\u001b[0;32m    333\u001b[0m         \u001b[38;5;124mf\u001b[39m\u001b[38;5;124m'\u001b[39m\u001b[38;5;124mUnreadable variable \u001b[39m\u001b[38;5;124m\"\u001b[39m\u001b[38;5;132;01m{\u001b[39;00mname\u001b[38;5;132;01m}\u001b[39;00m\u001b[38;5;124m\"\u001b[39m\u001b[38;5;124m, because \u001b[39m\u001b[38;5;124m\"\u001b[39m\u001b[38;5;132;01m{\u001b[39;00merr\u001b[38;5;132;01m}\u001b[39;00m\u001b[38;5;124m\"\u001b[39m\u001b[38;5;124m'\u001b[39m,\n\u001b[0;32m    334\u001b[0m         \u001b[38;5;167;01mWarning\u001b[39;00m, stacklevel\u001b[38;5;241m=\u001b[39m\u001b[38;5;241m2\u001b[39m)\n",
      "File \u001b[1;32mD:\\Anaconda\\envs\\ipytorch\\lib\\site-packages\\scipy\\io\\matlab\\_mio5.py:290\u001b[0m, in \u001b[0;36mMatFile5Reader.read_var_array\u001b[1;34m(self, header, process)\u001b[0m\n\u001b[0;32m    273\u001b[0m \u001b[38;5;28;01mdef\u001b[39;00m \u001b[38;5;21mread_var_array\u001b[39m(\u001b[38;5;28mself\u001b[39m, header, process\u001b[38;5;241m=\u001b[39m\u001b[38;5;28;01mTrue\u001b[39;00m):\n\u001b[0;32m    274\u001b[0m     \u001b[38;5;124;03m''' Read array, given `header`\u001b[39;00m\n\u001b[0;32m    275\u001b[0m \n\u001b[0;32m    276\u001b[0m \u001b[38;5;124;03m    Parameters\u001b[39;00m\n\u001b[1;32m   (...)\u001b[0m\n\u001b[0;32m    288\u001b[0m \u001b[38;5;124;03m       `process`.\u001b[39;00m\n\u001b[0;32m    289\u001b[0m \u001b[38;5;124;03m    '''\u001b[39;00m\n\u001b[1;32m--> 290\u001b[0m     \u001b[38;5;28;01mreturn\u001b[39;00m \u001b[38;5;28;43mself\u001b[39;49m\u001b[38;5;241;43m.\u001b[39;49m\u001b[43m_matrix_reader\u001b[49m\u001b[38;5;241;43m.\u001b[39;49m\u001b[43marray_from_header\u001b[49m\u001b[43m(\u001b[49m\u001b[43mheader\u001b[49m\u001b[43m,\u001b[49m\u001b[43m \u001b[49m\u001b[43mprocess\u001b[49m\u001b[43m)\u001b[49m\n",
      "File \u001b[1;32m_mio5_utils.pyx:665\u001b[0m, in \u001b[0;36mscipy.io.matlab._mio5_utils.VarReader5.array_from_header\u001b[1;34m()\u001b[0m\n",
      "File \u001b[1;32m_mio5_utils.pyx:694\u001b[0m, in \u001b[0;36mscipy.io.matlab._mio5_utils.VarReader5.array_from_header\u001b[1;34m()\u001b[0m\n",
      "File \u001b[1;32m_mio5_utils.pyx:768\u001b[0m, in \u001b[0;36mscipy.io.matlab._mio5_utils.VarReader5.read_real_complex\u001b[1;34m()\u001b[0m\n",
      "File \u001b[1;32m_mio5_utils.pyx:445\u001b[0m, in \u001b[0;36mscipy.io.matlab._mio5_utils.VarReader5.read_numeric\u001b[1;34m()\u001b[0m\n",
      "File \u001b[1;32m_mio5_utils.pyx:350\u001b[0m, in \u001b[0;36mscipy.io.matlab._mio5_utils.VarReader5.read_element\u001b[1;34m()\u001b[0m\n",
      "File \u001b[1;32m_streams.pyx:171\u001b[0m, in \u001b[0;36mscipy.io.matlab._streams.ZlibInputStream.read_string\u001b[1;34m()\u001b[0m\n",
      "File \u001b[1;32m_streams.pyx:164\u001b[0m, in \u001b[0;36mscipy.io.matlab._streams.ZlibInputStream.read_into\u001b[1;34m()\u001b[0m\n",
      "\u001b[1;31mOSError\u001b[0m: could not read bytes"
     ]
    }
   ],
   "source": [
    "import numpy as np\n",
    "from scipy.io import loadmat\n",
    "import pyedflib\n",
    "\n",
    "def mat_to_edf(mat_file, edf_file):\n",
    "    # Load .mat file\n",
    "    data = loadmat(mat_file)\n",
    "    \n",
    "    # Extract signal data and sampling rate\n",
    "    # Adjust keys based on your .mat file structure\n",
    "    if 'data' not in data or 'fs' not in data:\n",
    "        raise ValueError(\"The .mat file must contain 'data' (signals) and 'fs' (sampling rate).\")\n",
    "    \n",
    "    signals = data['data']  # Replace with the correct key for signal data\n",
    "    sampling_rate = int(data['fs'].squeeze())  # Replace with the correct key for sampling rate\n",
    "    \n",
    "    # Check signals format\n",
    "    if len(signals.shape) != 2:\n",
    "        raise ValueError(\"Signal data must be 2D (channels x samples).\")\n",
    "    \n",
    "    n_channels, n_samples = signals.shape\n",
    "\n",
    "    # Create an EDF writer\n",
    "    writer = pyedflib.EdfWriter(\n",
    "        edf_file,\n",
    "        n_channels=n_channels,\n",
    "        file_type=pyedflib.FILETYPE_EDFPLUS\n",
    "    )\n",
    "    \n",
    "    # Create channel information\n",
    "    channel_labels = [f\"ch_{i+1}\" for i in range(n_channels)]\n",
    "    channel_info = [{\n",
    "        'label': channel_labels[i],\n",
    "        'dimension': 'uV',\n",
    "        'sample_rate': sampling_rate,\n",
    "        'physical_min': np.min(signals[i]),\n",
    "        'physical_max': np.max(signals[i]),\n",
    "        'digital_min': -32768,\n",
    "        'digital_max': 32767,\n",
    "        'transducer': '',\n",
    "        'prefilter': ''\n",
    "    } for i in range(n_channels)]\n",
    "    \n",
    "    writer.setSignalHeaders(channel_info)\n",
    "    \n",
    "    # Write signals\n",
    "    writer.writeSamples(signals)\n",
    "    writer.close()\n",
    "    print(f\"Successfully converted {mat_file} to {edf_file}\")\n",
    "\n",
    "# Example usage\n",
    "mat_file = 'split2250_bipolarRerefType1_lineNoiseRemoved_postPuffpreStim.mat'  # Replace with your .mat file path\n",
    "edf_file = 'output.edf'  # Replace with your desired .edf file path\n",
    "\n",
    "mat_to_edf(mat_file, edf_file)\n"
   ]
  },
  {
   "cell_type": "code",
   "execution_count": 4,
   "id": "86da5692",
   "metadata": {},
   "outputs": [
    {
     "name": "stdout",
     "output_type": "stream",
     "text": [
      "Collecting h5py\n",
      "  Downloading h5py-3.12.1-cp39-cp39-win_amd64.whl (3.0 MB)\n",
      "     ---------------------------------------- 3.0/3.0 MB 152.0 kB/s eta 0:00:00\n",
      "Requirement already satisfied: numpy>=1.19.3 in d:\\anaconda\\envs\\ipytorch\\lib\\site-packages (from h5py) (1.24.1)\n",
      "Installing collected packages: h5py\n",
      "Successfully installed h5py-3.12.1\n",
      "Note: you may need to restart the kernel to use updated packages.\n"
     ]
    }
   ],
   "source": [
    "pip install h5py"
   ]
  },
  {
   "cell_type": "code",
   "execution_count": 21,
   "id": "b30eab85",
   "metadata": {},
   "outputs": [
    {
     "ename": "ImportError",
     "evalue": "cannot import name 'mat_reader_factory' from 'scipy.io.matlab' (D:\\Anaconda\\envs\\ipytorch\\lib\\site-packages\\scipy\\io\\matlab\\__init__.py)",
     "output_type": "error",
     "traceback": [
      "\u001b[1;31m---------------------------------------------------------------------------\u001b[0m",
      "\u001b[1;31mImportError\u001b[0m                               Traceback (most recent call last)",
      "Cell \u001b[1;32mIn[21], line 1\u001b[0m\n\u001b[1;32m----> 1\u001b[0m \u001b[38;5;28;01mfrom\u001b[39;00m \u001b[38;5;21;01mscipy\u001b[39;00m\u001b[38;5;21;01m.\u001b[39;00m\u001b[38;5;21;01mio\u001b[39;00m\u001b[38;5;21;01m.\u001b[39;00m\u001b[38;5;21;01mmatlab\u001b[39;00m \u001b[38;5;28;01mimport\u001b[39;00m mat_reader_factory\n\u001b[0;32m      3\u001b[0m \u001b[38;5;28;01mwith\u001b[39;00m \u001b[38;5;28mopen\u001b[39m(\u001b[38;5;124m'\u001b[39m\u001b[38;5;124msplit2250_bipolarRerefType1_lineNoiseRemoved_postPuffpreStim.mat\u001b[39m\u001b[38;5;124m'\u001b[39m, \u001b[38;5;124m'\u001b[39m\u001b[38;5;124mrb\u001b[39m\u001b[38;5;124m'\u001b[39m) \u001b[38;5;28;01mas\u001b[39;00m f:\n\u001b[0;32m      4\u001b[0m     reader, _ \u001b[38;5;241m=\u001b[39m mat_reader_factory(f)\n",
      "\u001b[1;31mImportError\u001b[0m: cannot import name 'mat_reader_factory' from 'scipy.io.matlab' (D:\\Anaconda\\envs\\ipytorch\\lib\\site-packages\\scipy\\io\\matlab\\__init__.py)"
     ]
    }
   ],
   "source": [
    "from scipy.io.matlab import mat_reader_factory\n",
    "\n",
    "with open('split2250_bipolarRerefType1_lineNoiseRemoved_postPuffpreStim.mat', 'rb') as f:\n",
    "    reader, _ = mat_reader_factory(f)\n",
    "    variables = reader.get_variables()\n",
    "    print(variables)"
   ]
  },
  {
   "cell_type": "code",
   "execution_count": 6,
   "id": "f8ff9a7d",
   "metadata": {},
   "outputs": [
    {
     "name": "stdout",
     "output_type": "stream",
     "text": [
      "Collecting mat73\n",
      "  Downloading mat73-0.65-py3-none-any.whl (19 kB)\n",
      "Requirement already satisfied: numpy in d:\\anaconda\\envs\\ipytorch\\lib\\site-packages (from mat73) (1.24.1)\n",
      "Requirement already satisfied: h5py in d:\\anaconda\\envs\\ipytorch\\lib\\site-packages (from mat73) (3.12.1)\n",
      "Installing collected packages: mat73\n",
      "Successfully installed mat73-0.65\n",
      "Note: you may need to restart the kernel to use updated packages.\n"
     ]
    }
   ],
   "source": [
    "pip install mat73"
   ]
  },
  {
   "cell_type": "code",
   "execution_count": 7,
   "id": "5432f865",
   "metadata": {},
   "outputs": [
    {
     "name": "stdout",
     "output_type": "stream",
     "text": [
      "Error loading .mat file using mat73: split2250_bipolarRerefType1_lineNoiseRemoved_postPuffpreStim.mat is not a MATLAB 7.3 file. Load with scipy.io.loadmat() instead.\n"
     ]
    }
   ],
   "source": [
    "import mat73\n",
    "\n",
    "try:\n",
    "    data = mat73.loadmat('split2250_bipolarRerefType1_lineNoiseRemoved_postPuffpreStim.mat')\n",
    "    print(\"Keys in the .mat file:\", data.keys())\n",
    "except Exception as e:\n",
    "    print(\"Error loading .mat file using mat73:\", e)"
   ]
  },
  {
   "cell_type": "code",
   "execution_count": 22,
   "id": "d773b52e",
   "metadata": {},
   "outputs": [
    {
     "name": "stdout",
     "output_type": "stream",
     "text": [
      "Error loading .mat file: could not read bytes\n"
     ]
    }
   ],
   "source": [
    "from scipy.io import loadmat\n",
    "\n",
    "try:\n",
    "    data = loadmat('split2250_bipolarRerefType1_lineNoiseRemoved_postPuffpreStim.mat', squeeze_me=False, struct_as_record=False)\n",
    "    print(\"Keys in the .mat file:\", data.keys())\n",
    "except Exception as e:\n",
    "    print(\"Error loading .mat file:\", e)"
   ]
  },
  {
   "cell_type": "code",
   "execution_count": 9,
   "id": "4f55abcd",
   "metadata": {},
   "outputs": [
    {
     "name": "stdout",
     "output_type": "stream",
     "text": [
      "b'MATLAB 5.0 MAT-file, Platform: PCWIN64, Created on: Tue May 16 15:15:11 2017                        '\n"
     ]
    }
   ],
   "source": [
    "with open('split2250_bipolarRerefType1_lineNoiseRemoved_postPuffpreStim.mat', 'rb') as f:\n",
    "    content = f.read(100)  # Read the first 100 bytes\n",
    "    print(content)"
   ]
  },
  {
   "cell_type": "code",
   "execution_count": 23,
   "id": "45223cf7",
   "metadata": {},
   "outputs": [
    {
     "name": "stdout",
     "output_type": "stream",
     "text": [
      "Error loading .mat file: could not read bytes\n"
     ]
    }
   ],
   "source": [
    "from scipy.io import loadmat\n",
    "\n",
    "try:\n",
    "    data = loadmat('split2250_bipolarRerefType1_lineNoiseRemoved_postPuffpreStim.mat', squeeze_me=False, struct_as_record=False)\n",
    "    print(\"Keys in the .mat file:\", data.keys())\n",
    "except Exception as e:\n",
    "    print(\"Error loading .mat file:\", e)"
   ]
  },
  {
   "cell_type": "code",
   "execution_count": 11,
   "id": "21e35cea",
   "metadata": {},
   "outputs": [
    {
     "name": "stdout",
     "output_type": "stream",
     "text": [
      "Loaded variables successfully.\n"
     ]
    }
   ],
   "source": [
    "from scipy.io import loadmat\n",
    "\n",
    "try:\n",
    "    data = loadmat('split2250_bipolarRerefType1_lineNoiseRemoved_postPuffpreStim.mat', variable_names=['var1', 'var2'])  # Replace with actual variable names\n",
    "    print(\"Loaded variables successfully.\")\n",
    "except Exception as e:\n",
    "    print(\"Error loading variables:\", e)"
   ]
  },
  {
   "cell_type": "code",
   "execution_count": 12,
   "id": "5b89f911",
   "metadata": {},
   "outputs": [],
   "source": [
    "for key in data.keys():\n",
    "    if not key.startswith('__'):  # Skip MATLAB metadata\n",
    "        print(f\"Variable: {key}, Type: {type(data[key])}\")"
   ]
  },
  {
   "cell_type": "code",
   "execution_count": 13,
   "id": "0ecc1541",
   "metadata": {},
   "outputs": [],
   "source": [
    "# Replace 'variable_name' with an actual variable from the output\n",
    "variable_name = 'your_variable_name_here'\n",
    "if variable_name in data:\n",
    "    print(f\"Variable: {variable_name}, Shape: {data[variable_name].shape if hasattr(data[variable_name], 'shape') else 'N/A'}\")\n",
    "    print(data[variable_name])  # Adjust depending on the variable's size"
   ]
  },
  {
   "cell_type": "code",
   "execution_count": 14,
   "id": "0f15b107",
   "metadata": {},
   "outputs": [],
   "source": [
    "# Replace 'data' and 'fs' with actual keys in the .mat file\n",
    "signals = data.get('data')  # Signal array\n",
    "sampling_rate = data.get('fs')  # Sampling rate\n",
    "\n",
    "if signals is not None:\n",
    "    print(f\"Signals Shape: {signals.shape}\")\n",
    "if sampling_rate is not None:\n",
    "    print(f\"Sampling Rate: {sampling_rate}\")"
   ]
  },
  {
   "cell_type": "code",
   "execution_count": 24,
   "id": "5dad0fbd",
   "metadata": {},
   "outputs": [
    {
     "ename": "AttributeError",
     "evalue": "'NoneType' object has no attribute 'shape'",
     "output_type": "error",
     "traceback": [
      "\u001b[1;31m---------------------------------------------------------------------------\u001b[0m",
      "\u001b[1;31mAttributeError\u001b[0m                            Traceback (most recent call last)",
      "Cell \u001b[1;32mIn[24], line 31\u001b[0m\n\u001b[0;32m     29\u001b[0m \u001b[38;5;66;03m# Example usage\u001b[39;00m\n\u001b[0;32m     30\u001b[0m edf_file \u001b[38;5;241m=\u001b[39m \u001b[38;5;124m'\u001b[39m\u001b[38;5;124moutput.edf\u001b[39m\u001b[38;5;124m'\u001b[39m\n\u001b[1;32m---> 31\u001b[0m \u001b[43mmat_to_edf\u001b[49m\u001b[43m(\u001b[49m\u001b[43msignals\u001b[49m\u001b[43m,\u001b[49m\u001b[43m \u001b[49m\u001b[43msampling_rate\u001b[49m\u001b[43m,\u001b[49m\u001b[43m \u001b[49m\u001b[43medf_file\u001b[49m\u001b[43m)\u001b[49m\n",
      "Cell \u001b[1;32mIn[24], line 5\u001b[0m, in \u001b[0;36mmat_to_edf\u001b[1;34m(signals, sampling_rate, edf_file)\u001b[0m\n\u001b[0;32m      4\u001b[0m \u001b[38;5;28;01mdef\u001b[39;00m \u001b[38;5;21mmat_to_edf\u001b[39m(signals, sampling_rate, edf_file):\n\u001b[1;32m----> 5\u001b[0m     n_channels, n_samples \u001b[38;5;241m=\u001b[39m \u001b[43msignals\u001b[49m\u001b[38;5;241;43m.\u001b[39;49m\u001b[43mshape\u001b[49m\n\u001b[0;32m      6\u001b[0m     writer \u001b[38;5;241m=\u001b[39m pyedflib\u001b[38;5;241m.\u001b[39mEdfWriter(edf_file, n_channels\u001b[38;5;241m=\u001b[39mn_channels, file_type\u001b[38;5;241m=\u001b[39mpyedflib\u001b[38;5;241m.\u001b[39mFILETYPE_EDFPLUS)\n\u001b[0;32m      8\u001b[0m     \u001b[38;5;66;03m# Create channel headers\u001b[39;00m\n",
      "\u001b[1;31mAttributeError\u001b[0m: 'NoneType' object has no attribute 'shape'"
     ]
    }
   ],
   "source": [
    "import pyedflib\n",
    "import numpy as np\n",
    "\n",
    "def mat_to_edf(signals, sampling_rate, edf_file):\n",
    "    n_channels, n_samples = signals.shape\n",
    "    writer = pyedflib.EdfWriter(edf_file, n_channels=n_channels, file_type=pyedflib.FILETYPE_EDFPLUS)\n",
    "    \n",
    "    # Create channel headers\n",
    "    channel_headers = []\n",
    "    for i in range(n_channels):\n",
    "        header = {\n",
    "            'label': f'Ch{i+1}',\n",
    "            'dimension': 'uV',\n",
    "            'sample_rate': sampling_rate,\n",
    "            'physical_min': np.min(signals[i]),\n",
    "            'physical_max': np.max(signals[i]),\n",
    "            'digital_min': -32768,\n",
    "            'digital_max': 32767,\n",
    "            'transducer': '',\n",
    "            'prefilter': ''\n",
    "        }\n",
    "        channel_headers.append(header)\n",
    "    \n",
    "    writer.setSignalHeaders(channel_headers)\n",
    "    writer.writeSamples(signals)\n",
    "    writer.close()\n",
    "    print(f\"EDF file saved to {edf_file}\")\n",
    "\n",
    "# Example usage\n",
    "edf_file = 'output.edf'\n",
    "mat_to_edf(signals, sampling_rate, edf_file)\n"
   ]
  },
  {
   "cell_type": "code",
   "execution_count": 16,
   "id": "c7158e71",
   "metadata": {},
   "outputs": [
    {
     "name": "stdout",
     "output_type": "stream",
     "text": [
      "dict_keys(['__header__', '__version__', '__globals__'])\n"
     ]
    }
   ],
   "source": [
    "print(data.keys())"
   ]
  },
  {
   "cell_type": "code",
   "execution_count": 17,
   "id": "2220dc04",
   "metadata": {},
   "outputs": [
    {
     "name": "stdout",
     "output_type": "stream",
     "text": [
      "b'MATLAB 5.0 MAT-file, Platform: PCWIN64, Created on: Tue May 16 15:15:11 2017                        '\n"
     ]
    }
   ],
   "source": [
    "with open('split2250_bipolarRerefType1_lineNoiseRemoved_postPuffpreStim.mat', 'rb') as f:\n",
    "    content = f.read(100)  # Read the first 100 bytes\n",
    "    print(content)"
   ]
  },
  {
   "cell_type": "code",
   "execution_count": 18,
   "id": "ac9c94a4",
   "metadata": {},
   "outputs": [
    {
     "name": "stdout",
     "output_type": "stream",
     "text": [
      "Scipy version: 1.13.1\n",
      "H5py version: 3.12.1\n"
     ]
    }
   ],
   "source": [
    "import scipy\n",
    "import h5py\n",
    "import mat73\n",
    "print(f\"Scipy version: {scipy.__version__}\")\n",
    "print(f\"H5py version: {h5py.__version__}\")"
   ]
  },
  {
   "cell_type": "code",
   "execution_count": 19,
   "id": "7c003fb8",
   "metadata": {},
   "outputs": [
    {
     "name": "stdout",
     "output_type": "stream",
     "text": [
      "Requirement already satisfied: scipy in d:\\anaconda\\envs\\ipytorch\\lib\\site-packages (1.13.1)\n",
      "Requirement already satisfied: numpy<2.3,>=1.22.4 in d:\\anaconda\\envs\\ipytorch\\lib\\site-packages (from scipy) (1.24.1)\n",
      "Note: you may need to restart the kernel to use updated packages.\n"
     ]
    }
   ],
   "source": [
    "pip install --upgrade scipy"
   ]
  },
  {
   "cell_type": "code",
   "execution_count": null,
   "id": "feb9270d",
   "metadata": {},
   "outputs": [],
   "source": []
  }
 ],
 "metadata": {
  "kernelspec": {
   "display_name": "Python [conda env:ipytorch] *",
   "language": "python",
   "name": "conda-env-ipytorch-py"
  },
  "language_info": {
   "codemirror_mode": {
    "name": "ipython",
    "version": 3
   },
   "file_extension": ".py",
   "mimetype": "text/x-python",
   "name": "python",
   "nbconvert_exporter": "python",
   "pygments_lexer": "ipython3",
   "version": "3.9.15"
  }
 },
 "nbformat": 4,
 "nbformat_minor": 5
}
